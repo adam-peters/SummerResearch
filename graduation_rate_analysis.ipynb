{
 "cells": [
  {
   "cell_type": "markdown",
   "id": "453987ed",
   "metadata": {},
   "source": [
    "### Imports"
   ]
  },
  {
   "cell_type": "code",
   "execution_count": 62,
   "id": "b631d0ee",
   "metadata": {},
   "outputs": [
    {
     "name": "stdout",
     "output_type": "stream",
     "text": [
      "Setup Complete\n"
     ]
    }
   ],
   "source": [
    "# Data Manipulation\n",
    "import pandas as pd\n",
    "# Data Normalization\n",
    "from sklearn import preprocessing\n",
    "# Data Visualization\n",
    "import matplotlib.pyplot as plt\n",
    "import seaborn as sns\n",
    "\n",
    "print(\"Setup Complete\")"
   ]
  },
  {
   "cell_type": "code",
   "execution_count": 63,
   "id": "e4924471",
   "metadata": {},
   "outputs": [
    {
     "name": "stdout",
     "output_type": "stream",
     "text": [
      "Loading Data...\n",
      "Data Loaded\n"
     ]
    }
   ],
   "source": [
    "print(\"Loading Data...\")\n",
    "\n",
    "grad_data = pd.read_csv(\"./data/graduation_rate.csv\")\n",
    "\n",
    "print(\"Data Loaded\")"
   ]
  },
  {
   "cell_type": "markdown",
   "id": "e423bdc1",
   "metadata": {},
   "source": [
    "### Data Preparation"
   ]
  },
  {
   "cell_type": "code",
   "execution_count": 64,
   "id": "64c10724",
   "metadata": {
    "scrolled": false
   },
   "outputs": [
    {
     "data": {
      "text/html": [
       "<div>\n",
       "<style scoped>\n",
       "    .dataframe tbody tr th:only-of-type {\n",
       "        vertical-align: middle;\n",
       "    }\n",
       "\n",
       "    .dataframe tbody tr th {\n",
       "        vertical-align: top;\n",
       "    }\n",
       "\n",
       "    .dataframe thead th {\n",
       "        text-align: right;\n",
       "    }\n",
       "</style>\n",
       "<table border=\"1\" class=\"dataframe\">\n",
       "  <thead>\n",
       "    <tr style=\"text-align: right;\">\n",
       "      <th></th>\n",
       "      <th>ACT composite score</th>\n",
       "      <th>SAT total score</th>\n",
       "      <th>parental level of education</th>\n",
       "      <th>parental income</th>\n",
       "      <th>high school gpa</th>\n",
       "      <th>college gpa</th>\n",
       "      <th>years to graduate</th>\n",
       "    </tr>\n",
       "  </thead>\n",
       "  <tbody>\n",
       "    <tr>\n",
       "      <th>0</th>\n",
       "      <td>22</td>\n",
       "      <td>1625</td>\n",
       "      <td>high school</td>\n",
       "      <td>40999</td>\n",
       "      <td>3.0</td>\n",
       "      <td>3.1</td>\n",
       "      <td>7</td>\n",
       "    </tr>\n",
       "    <tr>\n",
       "      <th>1</th>\n",
       "      <td>29</td>\n",
       "      <td>2090</td>\n",
       "      <td>associate's degree</td>\n",
       "      <td>75817</td>\n",
       "      <td>4.0</td>\n",
       "      <td>3.4</td>\n",
       "      <td>5</td>\n",
       "    </tr>\n",
       "    <tr>\n",
       "      <th>2</th>\n",
       "      <td>30</td>\n",
       "      <td>2188</td>\n",
       "      <td>bachelor's degree</td>\n",
       "      <td>82888</td>\n",
       "      <td>4.0</td>\n",
       "      <td>3.9</td>\n",
       "      <td>3</td>\n",
       "    </tr>\n",
       "    <tr>\n",
       "      <th>3</th>\n",
       "      <td>33</td>\n",
       "      <td>2151</td>\n",
       "      <td>associate's degree</td>\n",
       "      <td>93518</td>\n",
       "      <td>4.0</td>\n",
       "      <td>3.7</td>\n",
       "      <td>5</td>\n",
       "    </tr>\n",
       "    <tr>\n",
       "      <th>4</th>\n",
       "      <td>29</td>\n",
       "      <td>2050</td>\n",
       "      <td>associate's degree</td>\n",
       "      <td>79153</td>\n",
       "      <td>4.0</td>\n",
       "      <td>3.4</td>\n",
       "      <td>6</td>\n",
       "    </tr>\n",
       "  </tbody>\n",
       "</table>\n",
       "</div>"
      ],
      "text/plain": [
       "   ACT composite score  SAT total score parental level of education  \\\n",
       "0                   22             1625                 high school   \n",
       "1                   29             2090          associate's degree   \n",
       "2                   30             2188           bachelor's degree   \n",
       "3                   33             2151          associate's degree   \n",
       "4                   29             2050          associate's degree   \n",
       "\n",
       "   parental income  high school gpa  college gpa  years to graduate  \n",
       "0            40999              3.0          3.1                  7  \n",
       "1            75817              4.0          3.4                  5  \n",
       "2            82888              4.0          3.9                  3  \n",
       "3            93518              4.0          3.7                  5  \n",
       "4            79153              4.0          3.4                  6  "
      ]
     },
     "execution_count": 64,
     "metadata": {},
     "output_type": "execute_result"
    }
   ],
   "source": [
    "grad_data.head()"
   ]
  },
  {
   "cell_type": "code",
   "execution_count": 65,
   "id": "316e53b9",
   "metadata": {},
   "outputs": [
    {
     "data": {
      "text/plain": [
       "ACT composite score              int64\n",
       "SAT total score                  int64\n",
       "parental level of education     object\n",
       "parental income                  int64\n",
       "high school gpa                float64\n",
       "college gpa                    float64\n",
       "years to graduate                int64\n",
       "dtype: object"
      ]
     },
     "execution_count": 65,
     "metadata": {},
     "output_type": "execute_result"
    }
   ],
   "source": [
    "grad_data.dtypes"
   ]
  },
  {
   "cell_type": "markdown",
   "id": "693fceef",
   "metadata": {},
   "source": [
    "#### Data has no Missing Values"
   ]
  },
  {
   "cell_type": "code",
   "execution_count": 66,
   "id": "01e2c0b6",
   "metadata": {
    "scrolled": true
   },
   "outputs": [
    {
     "data": {
      "text/plain": [
       "ACT composite score            0\n",
       "SAT total score                0\n",
       "parental level of education    0\n",
       "parental income                0\n",
       "high school gpa                0\n",
       "college gpa                    0\n",
       "years to graduate              0\n",
       "dtype: int64"
      ]
     },
     "execution_count": 66,
     "metadata": {},
     "output_type": "execute_result"
    }
   ],
   "source": [
    "grad_data.isna().sum()"
   ]
  },
  {
   "cell_type": "markdown",
   "id": "5691d5a6",
   "metadata": {},
   "source": [
    "#### Rename Attributes to be more workable"
   ]
  },
  {
   "cell_type": "code",
   "execution_count": 67,
   "id": "716c2afd",
   "metadata": {
    "scrolled": false
   },
   "outputs": [],
   "source": [
    "attr_names = {\n",
    "    \"ACT composite score\": \"ACT\",\n",
    "    \"SAT total score\": \"SAT\",\n",
    "    \"parental level of education\": \"par_education\",\n",
    "    \"parental income\": \"par_income\",\n",
    "    \"high school gpa\": \"hs_gpa\",\n",
    "    \"college gpa\": \"college_gpa\",\n",
    "    \"years to graduate\": \"years_to_grad\",\n",
    "}\n",
    "\n",
    "grad_data.rename(columns=attr_names, inplace=True)"
   ]
  },
  {
   "cell_type": "code",
   "execution_count": 68,
   "id": "c7a5f91e",
   "metadata": {
    "scrolled": true
   },
   "outputs": [
    {
     "data": {
      "text/plain": [
       "Index(['ACT', 'SAT', 'par_education', 'par_income', 'hs_gpa', 'college_gpa',\n",
       "       'years_to_grad'],\n",
       "      dtype='object')"
      ]
     },
     "execution_count": 68,
     "metadata": {},
     "output_type": "execute_result"
    }
   ],
   "source": [
    "grad_data.columns"
   ]
  },
  {
   "cell_type": "markdown",
   "id": "3d5b868d",
   "metadata": {},
   "source": [
    "#### Normalize Data"
   ]
  },
  {
   "cell_type": "code",
   "execution_count": null,
   "id": "87c5f8e0",
   "metadata": {},
   "outputs": [],
   "source": []
  },
  {
   "cell_type": "markdown",
   "id": "3eede861",
   "metadata": {},
   "source": [
    "### Parental Education"
   ]
  },
  {
   "cell_type": "code",
   "execution_count": 69,
   "id": "e67adf04",
   "metadata": {
    "scrolled": false
   },
   "outputs": [
    {
     "data": {
      "text/plain": [
       "some college          232\n",
       "high school           207\n",
       "some high school      180\n",
       "associate's degree    176\n",
       "bachelor's degree     124\n",
       "master's degree        81\n",
       "Name: par_education, dtype: int64"
      ]
     },
     "execution_count": 69,
     "metadata": {},
     "output_type": "execute_result"
    }
   ],
   "source": [
    "par_edu_data = grad_data[\"par_education\"].value_counts()\n",
    "par_edu_data"
   ]
  },
  {
   "cell_type": "code",
   "execution_count": 70,
   "id": "4c9318da",
   "metadata": {},
   "outputs": [
    {
     "data": {
      "text/plain": [
       "'some college'"
      ]
     },
     "execution_count": 70,
     "metadata": {},
     "output_type": "execute_result"
    }
   ],
   "source": [
    "par_edu_data.index[0]"
   ]
  },
  {
   "cell_type": "code",
   "execution_count": 71,
   "id": "5665e4d9",
   "metadata": {
    "scrolled": true
   },
   "outputs": [
    {
     "data": {
      "image/png": "[encoded data removed]",
      "text/plain": [
       "<Figure size 640x480 with 1 Axes>"
      ]
     },
     "metadata": {},
     "output_type": "display_data"
    }
   ],
   "source": [
    "colors = sns.color_palette('pastel')[0:6]\n",
    "\n",
    "plt.pie(par_edu_data, labels=par_edu_data.index, colors=colors, autopct='%.0f%%')\n",
    "plt.show()"
   ]
  },
  {
   "cell_type": "markdown",
   "id": "8ed261f5",
   "metadata": {},
   "source": [
    "### Parental Income"
   ]
  },
  {
   "cell_type": "code",
   "execution_count": 72,
   "id": "6dbe9e2f",
   "metadata": {},
   "outputs": [
    {
     "data": {
      "text/plain": [
       "count      1000.00000\n",
       "mean      67377.85200\n",
       "std       18827.33105\n",
       "min       18906.00000\n",
       "25%       54269.75000\n",
       "50%       67842.50000\n",
       "75%       80465.50000\n",
       "max      124470.00000\n",
       "Name: par_income, dtype: float64"
      ]
     },
     "execution_count": 72,
     "metadata": {},
     "output_type": "execute_result"
    }
   ],
   "source": [
    "grad_data[\"par_income\"].describe()"
   ]
  },
  {
   "cell_type": "code",
   "execution_count": 73,
   "id": "3783c9bc",
   "metadata": {},
   "outputs": [
    {
     "data": {
      "text/plain": [
       "<AxesSubplot:ylabel='Frequency'>"
      ]
     },
     "execution_count": 73,
     "metadata": {},
     "output_type": "execute_result"
    },
    {
     "data": {
      "image/png": "[encoded data removed]",
      "text/plain": [
       "<Figure size 640x480 with 1 Axes>"
      ]
     },
     "metadata": {},
     "output_type": "display_data"
    }
   ],
   "source": [
    "grad_data[\"par_income\"].plot(kind='hist', edgecolor='black')"
   ]
  },
  {
   "cell_type": "code",
   "execution_count": 74,
   "id": "b235af69",
   "metadata": {},
   "outputs": [
    {
     "data": {
      "text/plain": [
       "<AxesSubplot:>"
      ]
     },
     "execution_count": 74,
     "metadata": {},
     "output_type": "execute_result"
    },
    {
     "data": {
      "image/png": "[encoded data removed]",
      "text/plain": [
       "<Figure size 640x480 with 1 Axes>"
      ]
     },
     "metadata": {},
     "output_type": "display_data"
    }
   ],
   "source": [
    "sns.boxplot(data=grad_data)"
   ]
  },
  {
   "cell_type": "code",
   "execution_count": null,
   "id": "4763f198",
   "metadata": {},
   "outputs": [],
   "source": []
  },
  {
   "cell_type": "code",
   "execution_count": null,
   "id": "df64e5a9",
   "metadata": {},
   "outputs": [],
   "source": []
  }
 ],
 "metadata": {
  "kernelspec": {
   "display_name": "Python 3 (ipykernel)",
   "language": "python",
   "name": "python3"
  },
  "language_info": {
   "codemirror_mode": {
    "name": "ipython",
    "version": 3
   },
   "file_extension": ".py",
   "mimetype": "text/x-python",
   "name": "python",
   "nbconvert_exporter": "python",
   "pygments_lexer": "ipython3",
   "version": "3.9.13"
  }
 },
 "nbformat": 4,
 "nbformat_minor": 5
}
