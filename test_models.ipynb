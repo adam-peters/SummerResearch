{
 "cells": [
  {
   "cell_type": "code",
   "execution_count": 23,
   "id": "9dbf8694",
   "metadata": {},
   "outputs": [],
   "source": [
    "import warnings\n",
    "warnings.filterwarnings('ignore')"
   ]
  },
  {
   "cell_type": "code",
   "execution_count": 24,
   "id": "f2ceff0e",
   "metadata": {},
   "outputs": [],
   "source": [
    "# Data Manipulation\n",
    "import pandas as pd\n",
    "import numpy as np\n",
    "\n",
    "# Models\n",
    "from sklearn.linear_model import LinearRegression\n",
    "from sklearn.linear_model import Ridge\n",
    "from sklearn.linear_model import Lasso"
   ]
  },
  {
   "cell_type": "code",
   "execution_count": 25,
   "id": "cbf510a7",
   "metadata": {},
   "outputs": [
    {
     "name": "stdout",
     "output_type": "stream",
     "text": [
      "Loading Data...\n",
      "Data Loaded\n"
     ]
    }
   ],
   "source": [
    "print(\"Loading Data...\")\n",
    "\n",
    "graduation_data = pd.read_csv(\"./data/graduation_rate.csv\")\n",
    "\n",
    "print(\"Data Loaded\")"
   ]
  },
  {
   "cell_type": "code",
   "execution_count": 26,
   "id": "790b1247",
   "metadata": {},
   "outputs": [
    {
     "data": {
      "text/plain": [
       "Index(['ACT composite score', 'SAT total score', 'parental level of education',\n",
       "       'parental income', 'high school gpa', 'college gpa',\n",
       "       'years to graduate'],\n",
       "      dtype='object')"
      ]
     },
     "execution_count": 26,
     "metadata": {},
     "output_type": "execute_result"
    }
   ],
   "source": [
    "graduation_data.columns"
   ]
  },
  {
   "cell_type": "code",
   "execution_count": 27,
   "id": "baf348d5",
   "metadata": {},
   "outputs": [],
   "source": [
    "# Feature Selection\n",
    "grad_features = ['ACT composite score', 'SAT total score',\n",
    "       'parental income', 'high school gpa']"
   ]
  },
  {
   "cell_type": "code",
   "execution_count": 28,
   "id": "08940807",
   "metadata": {},
   "outputs": [],
   "source": [
    "X = graduation_data[grad_features]"
   ]
  },
  {
   "cell_type": "code",
   "execution_count": 29,
   "id": "e1834a81",
   "metadata": {},
   "outputs": [],
   "source": [
    "# Selecting our Target\n",
    "y = graduation_data['years to graduate']"
   ]
  },
  {
   "cell_type": "code",
   "execution_count": 30,
   "id": "a887c350",
   "metadata": {
    "scrolled": true
   },
   "outputs": [],
   "source": [
    "# Train Test Split\n",
    "tts = skms.train_test_split(X, y, \n",
    "                            test_size=.2, random_state=21)\n",
    "\n",
    "(grad_train_ftrs, grad_test_ftrs,\n",
    " grad_train_tgt, grad_test_tgt) = tts"
   ]
  },
  {
   "cell_type": "code",
   "execution_count": 31,
   "id": "35326026",
   "metadata": {},
   "outputs": [
    {
     "name": "stdout",
     "output_type": "stream",
     "text": [
      "LinearRegression: 1.40\n",
      "Ridge: 1.40\n",
      "Lasso: 1.41\n"
     ]
    }
   ],
   "source": [
    "models = {\n",
    "    'LinearRegression': LinearRegression(),\n",
    "    'Ridge': Ridge(alpha=0.1),\n",
    "    'Lasso': Lasso(alpha=0.1),\n",
    "}\n",
    "    \n",
    "for name, model in models.items():\n",
    "    fit = model.fit(grad_train_ftrs, grad_train_tgt)\n",
    "    pred = fit.predict(grad_test_ftrs)\n",
    "    score = np.sqrt(metrics.mean_squared_error(grad_test_tgt, pred))\n",
    "    print(\"{:>3s}: {:0.2f}\".format(name, score))\n",
    "    "
   ]
  }
 ],
 "metadata": {
  "kernelspec": {
   "display_name": "Python 3 (ipykernel)",
   "language": "python",
   "name": "python3"
  },
  "language_info": {
   "codemirror_mode": {
    "name": "ipython",
    "version": 3
   },
   "file_extension": ".py",
   "mimetype": "text/x-python",
   "name": "python",
   "nbconvert_exporter": "python",
   "pygments_lexer": "ipython3",
   "version": "3.9.13"
  }
 },
 "nbformat": 4,
 "nbformat_minor": 5
}
