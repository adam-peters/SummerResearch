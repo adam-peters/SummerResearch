{
 "cells": [
  {
   "cell_type": "code",
   "execution_count": 32,
   "id": "b631d0ee",
   "metadata": {},
   "outputs": [
    {
     "name": "stdout",
     "output_type": "stream",
     "text": [
      "Setup Complete\n"
     ]
    }
   ],
   "source": [
    "# Data Manipulation\n",
    "import pandas as pd\n",
    "# Data Visualization\n",
    "import matplotlib.pyplot as plt\n",
    "import seaborn as sns\n",
    "\n",
    "print(\"Setup Complete\")"
   ]
  },
  {
   "cell_type": "code",
   "execution_count": 33,
   "id": "e4924471",
   "metadata": {},
   "outputs": [
    {
     "name": "stdout",
     "output_type": "stream",
     "text": [
      "Loading Data...\n",
      "Data Loaded\n"
     ]
    }
   ],
   "source": [
    "print(\"Loading Data...\")\n",
    "\n",
    "grad_data = pd.read_csv(\"./data/graduation_rate.csv\")\n",
    "\n",
    "print(\"Data Loaded\")"
   ]
  },
  {
   "cell_type": "code",
   "execution_count": 34,
   "id": "64c10724",
   "metadata": {
    "scrolled": true
   },
   "outputs": [
    {
     "data": {
      "text/html": [
       "<div>\n",
       "<style scoped>\n",
       "    .dataframe tbody tr th:only-of-type {\n",
       "        vertical-align: middle;\n",
       "    }\n",
       "\n",
       "    .dataframe tbody tr th {\n",
       "        vertical-align: top;\n",
       "    }\n",
       "\n",
       "    .dataframe thead th {\n",
       "        text-align: right;\n",
       "    }\n",
       "</style>\n",
       "<table border=\"1\" class=\"dataframe\">\n",
       "  <thead>\n",
       "    <tr style=\"text-align: right;\">\n",
       "      <th></th>\n",
       "      <th>ACT composite score</th>\n",
       "      <th>SAT total score</th>\n",
       "      <th>parental level of education</th>\n",
       "      <th>parental income</th>\n",
       "      <th>high school gpa</th>\n",
       "      <th>college gpa</th>\n",
       "      <th>years to graduate</th>\n",
       "    </tr>\n",
       "  </thead>\n",
       "  <tbody>\n",
       "    <tr>\n",
       "      <th>0</th>\n",
       "      <td>22</td>\n",
       "      <td>1625</td>\n",
       "      <td>high school</td>\n",
       "      <td>40999</td>\n",
       "      <td>3.0</td>\n",
       "      <td>3.1</td>\n",
       "      <td>7</td>\n",
       "    </tr>\n",
       "    <tr>\n",
       "      <th>1</th>\n",
       "      <td>29</td>\n",
       "      <td>2090</td>\n",
       "      <td>associate's degree</td>\n",
       "      <td>75817</td>\n",
       "      <td>4.0</td>\n",
       "      <td>3.4</td>\n",
       "      <td>5</td>\n",
       "    </tr>\n",
       "    <tr>\n",
       "      <th>2</th>\n",
       "      <td>30</td>\n",
       "      <td>2188</td>\n",
       "      <td>bachelor's degree</td>\n",
       "      <td>82888</td>\n",
       "      <td>4.0</td>\n",
       "      <td>3.9</td>\n",
       "      <td>3</td>\n",
       "    </tr>\n",
       "    <tr>\n",
       "      <th>3</th>\n",
       "      <td>33</td>\n",
       "      <td>2151</td>\n",
       "      <td>associate's degree</td>\n",
       "      <td>93518</td>\n",
       "      <td>4.0</td>\n",
       "      <td>3.7</td>\n",
       "      <td>5</td>\n",
       "    </tr>\n",
       "    <tr>\n",
       "      <th>4</th>\n",
       "      <td>29</td>\n",
       "      <td>2050</td>\n",
       "      <td>associate's degree</td>\n",
       "      <td>79153</td>\n",
       "      <td>4.0</td>\n",
       "      <td>3.4</td>\n",
       "      <td>6</td>\n",
       "    </tr>\n",
       "  </tbody>\n",
       "</table>\n",
       "</div>"
      ],
      "text/plain": [
       "   ACT composite score  SAT total score parental level of education  \\\n",
       "0                   22             1625                 high school   \n",
       "1                   29             2090          associate's degree   \n",
       "2                   30             2188           bachelor's degree   \n",
       "3                   33             2151          associate's degree   \n",
       "4                   29             2050          associate's degree   \n",
       "\n",
       "   parental income  high school gpa  college gpa  years to graduate  \n",
       "0            40999              3.0          3.1                  7  \n",
       "1            75817              4.0          3.4                  5  \n",
       "2            82888              4.0          3.9                  3  \n",
       "3            93518              4.0          3.7                  5  \n",
       "4            79153              4.0          3.4                  6  "
      ]
     },
     "execution_count": 34,
     "metadata": {},
     "output_type": "execute_result"
    }
   ],
   "source": [
    "grad_data.head()"
   ]
  },
  {
   "cell_type": "code",
   "execution_count": 35,
   "id": "23c14c6a",
   "metadata": {
    "scrolled": false
   },
   "outputs": [],
   "source": [
    "# Rename Attributes to be more workable\n",
    "attr_names = {\n",
    "    \"ACT composite score\": \"ACT\",\n",
    "    \"SAT total score\": \"SAT\",\n",
    "    \"parental level of education\": \"par_education\",\n",
    "    \"parental income\": \"par_income\",\n",
    "    \"high school gpa\": \"hs_gpa\",\n",
    "    \"college gpa\": \"college_gpa\",\n",
    "    \"years to graduate\": \"years_to_grad\",\n",
    "}\n",
    "\n",
    "grad_data.rename(columns=attr_names, inplace=True)"
   ]
  },
  {
   "cell_type": "code",
   "execution_count": 36,
   "id": "b94a15be",
   "metadata": {},
   "outputs": [
    {
     "data": {
      "text/plain": [
       "Index(['ACT', 'SAT', 'par_education', 'par_income', 'hs_gpa', 'college_gpa',\n",
       "       'years_to_grad'],\n",
       "      dtype='object')"
      ]
     },
     "execution_count": 36,
     "metadata": {},
     "output_type": "execute_result"
    }
   ],
   "source": [
    "grad_data.columns"
   ]
  },
  {
   "cell_type": "code",
   "execution_count": 37,
   "id": "b3630cae",
   "metadata": {
    "scrolled": false
   },
   "outputs": [
    {
     "data": {
      "text/plain": [
       "some college          232\n",
       "high school           207\n",
       "some high school      180\n",
       "associate's degree    176\n",
       "bachelor's degree     124\n",
       "master's degree        81\n",
       "Name: par_education, dtype: int64"
      ]
     },
     "execution_count": 37,
     "metadata": {},
     "output_type": "execute_result"
    }
   ],
   "source": [
    "par_edu_data = grad_data[\"par_education\"].value_counts()\n",
    "par_edu_data"
   ]
  },
  {
   "cell_type": "code",
   "execution_count": 38,
   "id": "860ec5c7",
   "metadata": {},
   "outputs": [
    {
     "data": {
      "text/plain": [
       "'some college'"
      ]
     },
     "execution_count": 38,
     "metadata": {},
     "output_type": "execute_result"
    }
   ],
   "source": [
    "par_edu_data.index[0]"
   ]
  },
  {
   "cell_type": "code",
   "execution_count": 39,
   "id": "6ed3b70e",
   "metadata": {},
   "outputs": [
    {
     "data": {
      "image/png": "[encoded data removed]",
      "text/plain": [
       "<Figure size 640x480 with 1 Axes>"
      ]
     },
     "metadata": {},
     "output_type": "display_data"
    }
   ],
   "source": [
    "colors = sns.color_palette('pastel')[0:6]\n",
    "\n",
    "plt.pie(par_edu_data, labels=par_edu_data.index, colors=colors, autopct='%.0f%%')\n",
    "plt.show()"
   ]
  }
 ],
 "metadata": {
  "kernelspec": {
   "display_name": "Python 3 (ipykernel)",
   "language": "python",
   "name": "python3"
  },
  "language_info": {
   "codemirror_mode": {
    "name": "ipython",
    "version": 3
   },
   "file_extension": ".py",
   "mimetype": "text/x-python",
   "name": "python",
   "nbconvert_exporter": "python",
   "pygments_lexer": "ipython3",
   "version": "3.9.13"
  }
 },
 "nbformat": 4,
 "nbformat_minor": 5
}
