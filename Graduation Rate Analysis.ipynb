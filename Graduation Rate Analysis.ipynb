{
 "cells": [
  {
   "cell_type": "code",
   "execution_count": 74,
   "id": "b9e6b427",
   "metadata": {},
   "outputs": [],
   "source": [
    "import pandas as pd\n",
    "import matplotlib.pyplot as plt"
   ]
  },
  {
   "cell_type": "code",
   "execution_count": 75,
   "id": "9afa34d1",
   "metadata": {},
   "outputs": [],
   "source": [
    "graduation_data = pd.read_csv(\"./data/graduation_rate.csv\")"
   ]
  },
  {
   "cell_type": "code",
   "execution_count": 76,
   "id": "610b8d2e",
   "metadata": {
    "scrolled": true
   },
   "outputs": [
    {
     "data": {
      "text/html": [
       "<div>\n",
       "<style scoped>\n",
       "    .dataframe tbody tr th:only-of-type {\n",
       "        vertical-align: middle;\n",
       "    }\n",
       "\n",
       "    .dataframe tbody tr th {\n",
       "        vertical-align: top;\n",
       "    }\n",
       "\n",
       "    .dataframe thead th {\n",
       "        text-align: right;\n",
       "    }\n",
       "</style>\n",
       "<table border=\"1\" class=\"dataframe\">\n",
       "  <thead>\n",
       "    <tr style=\"text-align: right;\">\n",
       "      <th></th>\n",
       "      <th>ACT composite score</th>\n",
       "      <th>SAT total score</th>\n",
       "      <th>parental level of education</th>\n",
       "      <th>parental income</th>\n",
       "      <th>high school gpa</th>\n",
       "      <th>college gpa</th>\n",
       "      <th>years to graduate</th>\n",
       "    </tr>\n",
       "  </thead>\n",
       "  <tbody>\n",
       "    <tr>\n",
       "      <th>0</th>\n",
       "      <td>22</td>\n",
       "      <td>1625</td>\n",
       "      <td>high school</td>\n",
       "      <td>40999</td>\n",
       "      <td>3.0</td>\n",
       "      <td>3.1</td>\n",
       "      <td>7</td>\n",
       "    </tr>\n",
       "    <tr>\n",
       "      <th>1</th>\n",
       "      <td>29</td>\n",
       "      <td>2090</td>\n",
       "      <td>associate's degree</td>\n",
       "      <td>75817</td>\n",
       "      <td>4.0</td>\n",
       "      <td>3.4</td>\n",
       "      <td>5</td>\n",
       "    </tr>\n",
       "    <tr>\n",
       "      <th>2</th>\n",
       "      <td>30</td>\n",
       "      <td>2188</td>\n",
       "      <td>bachelor's degree</td>\n",
       "      <td>82888</td>\n",
       "      <td>4.0</td>\n",
       "      <td>3.9</td>\n",
       "      <td>3</td>\n",
       "    </tr>\n",
       "    <tr>\n",
       "      <th>3</th>\n",
       "      <td>33</td>\n",
       "      <td>2151</td>\n",
       "      <td>associate's degree</td>\n",
       "      <td>93518</td>\n",
       "      <td>4.0</td>\n",
       "      <td>3.7</td>\n",
       "      <td>5</td>\n",
       "    </tr>\n",
       "    <tr>\n",
       "      <th>4</th>\n",
       "      <td>29</td>\n",
       "      <td>2050</td>\n",
       "      <td>associate's degree</td>\n",
       "      <td>79153</td>\n",
       "      <td>4.0</td>\n",
       "      <td>3.4</td>\n",
       "      <td>6</td>\n",
       "    </tr>\n",
       "  </tbody>\n",
       "</table>\n",
       "</div>"
      ],
      "text/plain": [
       "   ACT composite score  SAT total score parental level of education  \\\n",
       "0                   22             1625                 high school   \n",
       "1                   29             2090          associate's degree   \n",
       "2                   30             2188           bachelor's degree   \n",
       "3                   33             2151          associate's degree   \n",
       "4                   29             2050          associate's degree   \n",
       "\n",
       "   parental income  high school gpa  college gpa  years to graduate  \n",
       "0            40999              3.0          3.1                  7  \n",
       "1            75817              4.0          3.4                  5  \n",
       "2            82888              4.0          3.9                  3  \n",
       "3            93518              4.0          3.7                  5  \n",
       "4            79153              4.0          3.4                  6  "
      ]
     },
     "execution_count": 76,
     "metadata": {},
     "output_type": "execute_result"
    }
   ],
   "source": [
    "graduation_data.head()"
   ]
  },
  {
   "cell_type": "code",
   "execution_count": 77,
   "id": "5718c184",
   "metadata": {
    "scrolled": true
   },
   "outputs": [
    {
     "data": {
      "text/html": [
       "<div>\n",
       "<style scoped>\n",
       "    .dataframe tbody tr th:only-of-type {\n",
       "        vertical-align: middle;\n",
       "    }\n",
       "\n",
       "    .dataframe tbody tr th {\n",
       "        vertical-align: top;\n",
       "    }\n",
       "\n",
       "    .dataframe thead th {\n",
       "        text-align: right;\n",
       "    }\n",
       "</style>\n",
       "<table border=\"1\" class=\"dataframe\">\n",
       "  <thead>\n",
       "    <tr style=\"text-align: right;\">\n",
       "      <th></th>\n",
       "      <th>ACT composite score</th>\n",
       "      <th>SAT total score</th>\n",
       "      <th>parental income</th>\n",
       "      <th>high school gpa</th>\n",
       "      <th>college gpa</th>\n",
       "      <th>years to graduate</th>\n",
       "    </tr>\n",
       "  </thead>\n",
       "  <tbody>\n",
       "    <tr>\n",
       "      <th>count</th>\n",
       "      <td>1000.000000</td>\n",
       "      <td>1000.000000</td>\n",
       "      <td>1000.00000</td>\n",
       "      <td>1000.000000</td>\n",
       "      <td>1000.000000</td>\n",
       "      <td>1000.000000</td>\n",
       "    </tr>\n",
       "    <tr>\n",
       "      <th>mean</th>\n",
       "      <td>28.607000</td>\n",
       "      <td>1999.906000</td>\n",
       "      <td>67377.85200</td>\n",
       "      <td>3.707400</td>\n",
       "      <td>3.376500</td>\n",
       "      <td>4.982000</td>\n",
       "    </tr>\n",
       "    <tr>\n",
       "      <th>std</th>\n",
       "      <td>2.774211</td>\n",
       "      <td>145.078361</td>\n",
       "      <td>18827.33105</td>\n",
       "      <td>0.287381</td>\n",
       "      <td>0.237179</td>\n",
       "      <td>1.414099</td>\n",
       "    </tr>\n",
       "    <tr>\n",
       "      <th>min</th>\n",
       "      <td>20.000000</td>\n",
       "      <td>1598.000000</td>\n",
       "      <td>18906.00000</td>\n",
       "      <td>2.800000</td>\n",
       "      <td>2.600000</td>\n",
       "      <td>3.000000</td>\n",
       "    </tr>\n",
       "    <tr>\n",
       "      <th>25%</th>\n",
       "      <td>27.000000</td>\n",
       "      <td>1898.000000</td>\n",
       "      <td>54269.75000</td>\n",
       "      <td>3.500000</td>\n",
       "      <td>3.200000</td>\n",
       "      <td>4.000000</td>\n",
       "    </tr>\n",
       "    <tr>\n",
       "      <th>50%</th>\n",
       "      <td>28.500000</td>\n",
       "      <td>2000.000000</td>\n",
       "      <td>67842.50000</td>\n",
       "      <td>3.800000</td>\n",
       "      <td>3.400000</td>\n",
       "      <td>5.000000</td>\n",
       "    </tr>\n",
       "    <tr>\n",
       "      <th>75%</th>\n",
       "      <td>31.000000</td>\n",
       "      <td>2099.000000</td>\n",
       "      <td>80465.50000</td>\n",
       "      <td>4.000000</td>\n",
       "      <td>3.500000</td>\n",
       "      <td>6.000000</td>\n",
       "    </tr>\n",
       "    <tr>\n",
       "      <th>max</th>\n",
       "      <td>36.000000</td>\n",
       "      <td>2385.000000</td>\n",
       "      <td>124470.00000</td>\n",
       "      <td>4.000000</td>\n",
       "      <td>4.000000</td>\n",
       "      <td>10.000000</td>\n",
       "    </tr>\n",
       "  </tbody>\n",
       "</table>\n",
       "</div>"
      ],
      "text/plain": [
       "       ACT composite score  SAT total score  parental income  high school gpa  \\\n",
       "count          1000.000000      1000.000000       1000.00000      1000.000000   \n",
       "mean             28.607000      1999.906000      67377.85200         3.707400   \n",
       "std               2.774211       145.078361      18827.33105         0.287381   \n",
       "min              20.000000      1598.000000      18906.00000         2.800000   \n",
       "25%              27.000000      1898.000000      54269.75000         3.500000   \n",
       "50%              28.500000      2000.000000      67842.50000         3.800000   \n",
       "75%              31.000000      2099.000000      80465.50000         4.000000   \n",
       "max              36.000000      2385.000000     124470.00000         4.000000   \n",
       "\n",
       "       college gpa  years to graduate  \n",
       "count  1000.000000        1000.000000  \n",
       "mean      3.376500           4.982000  \n",
       "std       0.237179           1.414099  \n",
       "min       2.600000           3.000000  \n",
       "25%       3.200000           4.000000  \n",
       "50%       3.400000           5.000000  \n",
       "75%       3.500000           6.000000  \n",
       "max       4.000000          10.000000  "
      ]
     },
     "execution_count": 77,
     "metadata": {},
     "output_type": "execute_result"
    }
   ],
   "source": [
    "graduation_data.describe()"
   ]
  },
  {
   "cell_type": "code",
   "execution_count": 78,
   "id": "95d07f07",
   "metadata": {
    "scrolled": false
   },
   "outputs": [],
   "source": [
    "# Convert parental level of education column to categorical data type\n",
    "\n",
    "# graduation_data[\"parental level of education\"] = graduation_data[\"parental level of education\"].astype('category')\n",
    "\n",
    "education_level = graduation_data[\"parental level of education\"].astype('category').array\n",
    "education_level_dict = dict(enumerate(education_level.categories))\n",
    "\n",
    "graduation_data[\"parental level of education\"] = education_level.codes"
   ]
  },
  {
   "cell_type": "code",
   "execution_count": 79,
   "id": "74983ea0",
   "metadata": {},
   "outputs": [
    {
     "data": {
      "text/plain": [
       "0      2\n",
       "1      0\n",
       "2      1\n",
       "3      0\n",
       "4      0\n",
       "      ..\n",
       "995    4\n",
       "996    4\n",
       "997    0\n",
       "998    5\n",
       "999    1\n",
       "Name: parental level of education, Length: 1000, dtype: int8"
      ]
     },
     "execution_count": 79,
     "metadata": {},
     "output_type": "execute_result"
    }
   ],
   "source": [
    "graduation_data[\"parental level of education\"]"
   ]
  },
  {
   "cell_type": "code",
   "execution_count": 80,
   "id": "20369f5e",
   "metadata": {
    "scrolled": false
   },
   "outputs": [],
   "source": [
    "features = graduation_data.columns"
   ]
  },
  {
   "cell_type": "code",
   "execution_count": 81,
   "id": "983b60a7",
   "metadata": {
    "scrolled": true
   },
   "outputs": [
    {
     "data": {
      "image/png": "[encoded data removed]",
      "text/plain": [
       "<Figure size 1200x600 with 6 Axes>"
      ]
     },
     "metadata": {},
     "output_type": "display_data"
    }
   ],
   "source": [
    "fig, axes = plt.subplots(2, 3, figsize=(12,6))\n",
    "\n",
    "for ax, feature in zip(axes.flat, features):\n",
    "    ax.hist(graduation_data[feature])\n",
    "    ax.set_title(feature)\n",
    "    \n",
    "fig.tight_layout()"
   ]
  },
  {
   "cell_type": "code",
   "execution_count": null,
   "id": "173bf130",
   "metadata": {},
   "outputs": [],
   "source": []
  },
  {
   "cell_type": "code",
   "execution_count": null,
   "id": "5903c9bc",
   "metadata": {},
   "outputs": [],
   "source": []
  },
  {
   "cell_type": "code",
   "execution_count": null,
   "id": "9ef8a114",
   "metadata": {},
   "outputs": [],
   "source": []
  },
  {
   "cell_type": "code",
   "execution_count": null,
   "id": "12413ef5",
   "metadata": {},
   "outputs": [],
   "source": []
  }
 ],
 "metadata": {
  "kernelspec": {
   "display_name": "Python 3 (ipykernel)",
   "language": "python",
   "name": "python3"
  },
  "language_info": {
   "codemirror_mode": {
    "name": "ipython",
    "version": 3
   },
   "file_extension": ".py",
   "mimetype": "text/x-python",
   "name": "python",
   "nbconvert_exporter": "python",
   "pygments_lexer": "ipython3",
   "version": "3.9.13"
  }
 },
 "nbformat": 4,
 "nbformat_minor": 5
}
